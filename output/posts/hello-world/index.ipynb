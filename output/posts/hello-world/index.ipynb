{
 "cells": [
  {
   "cell_type": "markdown",
   "metadata": {},
   "source": [
    "> “Doesn’t matter if you can dream it or not, all that matters is if you can begin it or not? Take that first step.”\n",
    " \n",
    " Vikrmn, Corpkshetra \n",
    " <br>"
   ]
  },
  {
   "cell_type": "markdown",
   "metadata": {},
   "source": [
    "<br>\n",
    "<img src=\"/images/nikola-site-950.png\">\n",
    "<br>"
   ]
  },
  {
   "cell_type": "markdown",
   "metadata": {},
   "source": [
    "В своём первом блоге  хочется написать пару строк о том, без чего не получилось бы реализовать данный замысел, высказать мысли о выборе сервисов и поблагодарить комьюнити, которое разрабатывают и поддерживают данные технологии. Итак, поехали.\n",
    "\n",
    "### [Генератор статических сайтов Nikola ](https://getnikola.com/)\n",
    "Основной критерий выбора: он должен использовать Python. Пожалуй, самый известный из генераторов статических сайтов для Python - [Pelican ](http://blog.getpelican.com/). К сожалению, я не успел его опробовать. В интернете есть замечательная статья о тонкостях настройки Pelican https://the-bosha.ru/2016/05/04/generator-staticheskih-blogov-pelican/. Моё внимание привлёк Nicola. И в принципе, очень доволен выбором. Огромным преимуществом для меня была встроенная поддержка Jupyter notebooks (о чём расскажу ниже). Плюсом есть поддержка и доброжелательность комьюнити. К примеру, на свой вопрос я получил мгновенный ответ через [Nikola Generator Twitter ](https://twitter.com/getnikola).\n",
    "\n",
    "Полезные ссылки:\n",
    "  * Официальная документация https://getnikola.com/handbook.html\n",
    "  * PyPI link https://pypi.python.org/pypi/Nikola/\n",
    "  * [How I customized my Nikola-powered site](http://louistiao.me/posts/how-i-customized-my-nikola-powered-site/)\n",
    "  * [Nikola: the static blog engine A.K.A. How I build Shisaa.jp](http://www.shisaa.jp/postset/nikola-web.html)\n",
    "  * [Starting a Personal Blog with Nikola](https://meshlogic.github.io/posts/web-design/starting-a-personal-blog-with-nikola/)\n",
    "  * [Nikola, one kickass Site and Blog generator](http://areskibelaid.com/nikola-one-kickass-site-generator/)\n",
    "\n",
    "И, конечно,  'last but not least' -  этот генератор назван в честь выдающегося ученого и изобретателя Николы Теслы.\n",
    "Есть и определённые минусы, не всё гладко с отображением кириллицы (по крайней мере, я с этим столкнулся и пришлось подбирать шрифт), не всё в документации прописано прозрачно и многие моменты пробовал интуитивно. Но всё это мелочи по сравнению с огромным потенциалом, заложенным в данный генератор статических сайтов.\n"
   ]
  },
  {
   "cell_type": "markdown",
   "metadata": {
    "collapsed": true
   },
   "source": [
    "### [The Jupyter Notebook](http://jupyter.org/)\n",
    "\n",
    "<br>\n",
    "<img src=\"/images/jupyter-site-950.png\">\n",
    "<br>"
   ]
  },
  {
   "cell_type": "markdown",
   "metadata": {},
   "source": [
    "С помощью jupyter notebook (запустив онлайн или установив на компьютер), вы сможете создавать документы notebooks (по сути, JSON c расширение ipynb), которые содержат как программный код, который можно интерактивно запускать, вносить изменения (например, на Python), так и расширенный текст, и диаграммы. Данными документами очень удобно делиться в интернете или конвертировать в различные форматы, например, HTML, Markdown, reST, pdf.  Кроме этого, это и удобная оболочка c 'магическими командами', которая позволяет тесно взаимодейстовать с Python.\n",
    "<br>"
   ]
  },
  {
   "cell_type": "code",
   "execution_count": 7,
   "metadata": {
    "collapsed": false
   },
   "outputs": [
    {
     "name": "stdout",
     "output_type": "stream",
     "text": [
      "total 568\r\n",
      "-rw-r--r-- 1 vitaliy   9260 лис  2 15:49 base_blog.html\r\n",
      "-rw-r--r-- 1 vitaliy    163 жов 26 14:13 checker_div.py\r\n",
      "drwxr-xr-x 3 vitaliy   4096 жов 26 14:13 \u001b[0m\u001b[01;34mcss\u001b[0m/\r\n",
      "-rw-r--r-- 1 vitaliy  13328 лис  2 15:39 index2.html\r\n",
      "-rw-r--r-- 1 vitaliy  17607 лис  2 15:30 index.html\r\n",
      "drwxr-xr-x 2 vitaliy   4096 лис 14 19:13 \u001b[01;34m__pycache__\u001b[0m/\r\n",
      "-rw-r--r-- 1 vitaliy   3869 лис  2 15:39 script.js\r\n",
      "-rw-r--r-- 1 vitaliy 256336 лис  2 13:35 Untitled1.html\r\n",
      "-rw-r--r-- 1 vitaliy 250093 лис  2 13:37 Untitled.html\r\n",
      "drwxr-xr-x 2 vitaliy   4096 жов 26 14:13 \u001b[01;34mw3images\u001b[0m/\r\n"
     ]
    }
   ],
   "source": [
    "%ll"
   ]
  },
  {
   "cell_type": "markdown",
   "metadata": {},
   "source": [
    "<br>\n",
    "Пример использования Jupyter Notebook. В ходе работы над оформлением одного из сайтов, возникла необходимость просмотреть количество незакрытых div. Конечно, это удобно сделать с помощью любого текстового редактора, например, моего любимого [Sublime Text3](https://www.sublimetext.com/3). Но, чтобы показать как выделяется код в документе Jupyter notebook, напишем модуль на Python.\n",
    "<br>\n",
    "<br>"
   ]
  },
  {
   "cell_type": "code",
   "execution_count": 8,
   "metadata": {
    "collapsed": false
   },
   "outputs": [
    {
     "name": "stdout",
     "output_type": "stream",
     "text": [
      "5\n"
     ]
    }
   ],
   "source": [
    "x = 0\n",
    "with open('index.html') as f:\n",
    "    for line in f:\n",
    "        if '<div' in line:\n",
    "            x += 1\n",
    "        if '</div' in line:\n",
    "            x -= 1\n",
    "\n",
    "print(x)"
   ]
  },
  {
   "cell_type": "code",
   "execution_count": 9,
   "metadata": {
    "collapsed": false
   },
   "outputs": [],
   "source": [
    "import json"
   ]
  },
  {
   "cell_type": "code",
   "execution_count": 15,
   "metadata": {
    "collapsed": false
   },
   "outputs": [
    {
     "name": "stdout",
     "output_type": "stream",
     "text": [
      "Help on function load in json:\n",
      "\n",
      "json.load = load(fp, cls=None, object_hook=None, parse_float=None, parse_int=None, parse_constant=None, object_pairs_hook=None, **kw)\n",
      "    Deserialize ``fp`` (a ``.read()``-supporting file-like object containing\n",
      "    a JSON document) to a Python object.\n",
      "    \n",
      "    ``object_hook`` is an optional function that will be called with the\n",
      "    result of any object literal decode (a ``dict``). The return value of\n",
      "    ``object_hook`` will be used instead of the ``dict``. This feature\n",
      "    can be used to implement custom decoders (e.g. JSON-RPC class hinting).\n",
      "    \n",
      "    ``object_pairs_hook`` is an optional function that will be called with the\n",
      "    result of any object literal decoded with an ordered list of pairs.  The\n",
      "    return value of ``object_pairs_hook`` will be used instead of the ``dict``.\n",
      "    This feature can be used to implement custom decoders that rely on the\n",
      "    order that the key and value pairs are decoded (for example,\n",
      "    collections.OrderedDict will remember the order of insertion). If\n",
      "    ``object_hook`` is also defined, the ``object_pairs_hook`` takes priority.\n",
      "    \n",
      "    To use a custom ``JSONDecoder`` subclass, specify it with the ``cls``\n",
      "    kwarg; otherwise ``JSONDecoder`` is used.\n",
      "\n"
     ]
    }
   ],
   "source": [
    "help('json.load')"
   ]
  },
  {
   "cell_type": "markdown",
   "metadata": {},
   "source": [
    "Ccылки:\n",
    "\n",
    "\n",
    "  * [Jupyter Documentation](http://jupyter.readthedocs.io/en/latest/)\n",
    "  * [Неплохая обзорная статья на русском языке](http://openfablab.ru/play/default/showtask/196)\n",
    "\n",
    "Для меня удобство Jupyter Notebook состоит в том, что в своих блогах я планирую показывать Python код. Поэтому установив и запустив Jupyter Notebook App на компьютере, можно в браузере формировать участки в формате Markdown и вставлять Python код, сохранять в формате .ipynb и затем Nikola конвертирует результат в HTML.\n",
    "<br>\n",
    "Пример:\n",
    "\n",
    "(nikola) vitaliy@comp:~/Documents/my_blog$ nikola new_post -i \"first.ipynb\" -f ipynb --tags='web','site generator'"
   ]
  },
  {
   "cell_type": "markdown",
   "metadata": {},
   "source": [
    "### [GitHub Pages](https://pages.github.com/)\n",
    "\n",
    "<br>\n",
    "<img src=\"/images/gh-pages-950.png\">\n",
    "<br>"
   ]
  },
  {
   "cell_type": "markdown",
   "metadata": {},
   "source": [
    "В интернете есть масса информации по использованию GitHub Pages как бесплатного хостинга для статических сайтов. Пример, https://htmlacademy.ru/blog/99-github-as-hosting. Для этого необходимо лишь зарегистрироваться на Github. Отмечу, что Nikola уже с коробки умеет делать deploy на GitHub Pages.\n",
    "<br>\n",
    "<br>\n",
    "<br>"
   ]
  }
 ],
 "metadata": {
  "kernelspec": {
   "display_name": "Python 3",
   "language": "python",
   "name": "python3"
  },
  "language_info": {
   "codemirror_mode": {
    "name": "ipython",
    "version": 3
   },
   "file_extension": ".py",
   "mimetype": "text/x-python",
   "name": "python",
   "nbconvert_exporter": "python",
   "pygments_lexer": "ipython3",
   "version": "3.5.2+"
  },
  "nikola": {
   "category": "",
   "date": "2016-11-14 22:51:32 UTC+02:00",
   "description": "",
   "link": "",
   "slug": "hello-world",
   "tags": "Nikola,Jupyter Notebook,web",
   "title": "Hello World!",
   "type": "text"
  }
 },
 "nbformat": 4,
 "nbformat_minor": 1
}
