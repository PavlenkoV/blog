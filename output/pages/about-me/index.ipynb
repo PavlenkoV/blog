{
 "cells": [
  {
   "cell_type": "markdown",
   "metadata": {},
   "source": [
    "### Автор блога\n",
    "\n",
    "## Виталий Павленко\n",
    "\n",
    "  "
   ]
  },
  {
   "cell_type": "markdown",
   "metadata": {},
   "source": [
    "> “Programming isn't about what you know; it's about what you can figure out.” \n",
    "\n",
    "― Chris Pine, Learn to Program \n",
    "\n",
    "<br>"
   ]
  },
  {
   "cell_type": "markdown",
   "metadata": {},
   "source": [
    "<img src='/images/avatar.jpg'>\n",
    "<p>\n",
    "<p>\n",
    "\n",
    "<br>"
   ]
  },
  {
   "cell_type": "markdown",
   "metadata": {},
   "source": [
    "**Немного ностальгии ... или о том, как я познакомился с компьютерами.**\n",
    "<br>\n",
    "<br>\n",
    "Первое знакомство с удивительным миром компьютеров произошло в начале 90х, когда стал владельцем клона \"ZX Spectrum\" - [Робик](http://speccy.info/%D0%A0%D0%BE%D0%B1%D0%B8%D0%BA).\n",
    "![Robik](/images/robik.jpg)\n",
    "<br>\n",
    "До сих пор с умилением вспоминаю поездки по всему городу в поисках кассет с софтом, бессонные ночи с прохождением графических!!! игр и первые программки на <mark>Basic </mark>, а также бесконечную подстройку магнитофона, 5-ти минутные загрузки с магнитных лент и обрыв почти в самом конце (но первой любви простительны эти мелкие ...неудобства, особенно, когда у тебя собирается куча одноклассников и ты числишься чуть-ли не 'магом').   \n",
    "\n",
    "<br>\n",
    "После этого последовал [486й](https://en.wikipedia.org/wiki/Intel_DX4) компьютер и череда различных машин: [Cyrix](http://www.ixbt.com/cpu/cyrix3-533.html), [Duron](https://en.wikipedia.org/wiki/Duron) итд., <mark>Turbo Pascal </mark>, стопки журналов \"Компьютерное обозрение\", особенно заинтересовали статьи [Андрея Зубинского](http://ko.com.ua/blogs/andrew), с его интригующим, необычным и завораживающим подходом к описанию сложнейших тем и рассказами о выдающихся личностях, которые изменили облик IT-сферы.\n",
    "<br>\n",
    "<br>\n",
    "![Компьютерное обозрение](/images/ko_magazine.jpg)\n",
    "<br>"
   ]
  },
  {
   "cell_type": "markdown",
   "metadata": {
    "collapsed": true
   },
   "source": [
    "Очередным всплеском интереса к компьютерным технологиям стало знакомство с <mark> Linux </mark> после покупки [книги](http://www.bhv.ru/books/book.php?id=510) с дистрибутивом на CD-ROM и затем последовавшие бесконечные споры c друзьями, что лучше - Винда или Линукс. \n",
    "<br>\n",
    "<br>\n",
    "Через пару лет столкнулся и с web-программированием, удалось запустить несколько простых сайтов и форумов для друзей и знакомых (игровой сайт и форум для любителей Starcraft/Warcraft, небольшой университетский сайт для любителей \"Что? Где? Когда?\"). Для экономии на хостинге выбор пал на CMS, которой не требовалась база данных MySQL. В те годы мне не удалось найти бесплатный хостинг с MySQL, поэтому использовал CMS [Siteman 2](http://hostinfo.ru/articles/595) с встроенной текстовой базой данных.\n",
    "<br>\n",
    "<br>\n"
   ]
  },
  {
   "cell_type": "markdown",
   "metadata": {},
   "source": [
    "** Let dreams come true **\n",
    "<br>\n",
    "<br>\n",
    "Наконец-то появилась возможность и время начать вести блог. В данный момент очень интересуюсь всем,что связано с миром Python, активно изучаю Django.\n",
    "<br>\n",
    "![Python, Django](/images/python.jpg)\n",
    "<br>"
   ]
  },
  {
   "cell_type": "markdown",
   "metadata": {},
   "source": [
    "Поэтому здесь постараюсь делиться мыслями о своём опыте использования различных модулей, технологий.\n",
    "<br>\n",
    "<br>\n",
    "<br>"
   ]
  }
 ],
 "metadata": {
  "kernelspec": {
   "display_name": "Python 3",
   "language": "python",
   "name": "python3"
  },
  "language_info": {
   "codemirror_mode": {
    "name": "ipython",
    "version": 3
   },
   "file_extension": ".py",
   "mimetype": "text/x-python",
   "name": "python",
   "nbconvert_exporter": "python",
   "pygments_lexer": "ipython3",
   "version": "3.5.2+"
  },
  "nikola": {
   "category": "",
   "date": "2016-11-14 22:50:15 UTC+02:00",
   "description": "",
   "link": "",
   "slug": "about-me",
   "tags": "",
   "title": "about me",
   "type": "text"
  }
 },
 "nbformat": 4,
 "nbformat_minor": 1
}
